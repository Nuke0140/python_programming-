{
 "cells": [
  {
   "cell_type": "code",
   "execution_count": 1,
   "id": "b74f3bc7",
   "metadata": {},
   "outputs": [
    {
     "name": "stdout",
     "output_type": "stream",
     "text": [
      "24\n"
     ]
    }
   ],
   "source": [
    "n = [2, 4, 6, 8]\n",
    "res = 1\n",
    "for x in n[1:3]:\n",
    "  res *= x\n",
    "\n",
    "print(res)\n"
   ]
  },
  {
   "cell_type": "markdown",
   "id": "8a9f70b4",
   "metadata": {},
   "source": [
    "### Dictionaries \n",
    "----\n",
    "- python provides a number of built-in  collection types to store multiple  value \n",
    "- Lists are one of these collection type and they allows to store indexed values. \n",
    "----\n",
    "- Dictionaries are another collection type and allow you to map arbitray keys to values \n",
    "- dictionaries can be indexed in the same way as lists square  brackets containing keys \n"
   ]
  },
  {
   "cell_type": "code",
   "execution_count": 3,
   "id": "19a8dd34",
   "metadata": {},
   "outputs": [
    {
     "name": "stdout",
     "output_type": "stream",
     "text": [
      "24\n",
      "42\n"
     ]
    }
   ],
   "source": [
    "ages = {\"Dave\": 24, \"Mary\": 42, \"John\": 58}\n",
    "print(ages[\"Dave\"])\n",
    "print(ages[\"Mary\"])\n",
    "\n",
    "#Each element in a dictionary is represented by a key:value pair."
   ]
  },
  {
   "cell_type": "markdown",
   "id": "7a14934f",
   "metadata": {},
   "source": [
    "-----\n",
    "- only immutable  object can be used as  keys to dictionries . immutable object are those that cant be chnaged \n",
    "- so far the only mutable object you have across are list and dictionaries \n",
    "\n",
    "- this means that  you can used  strings , inteers, boolean and any other immutable type as dictionary keys \n",
    "-----\n",
    "- to determine whether a key is in a dictionary , you can use in adn not in just \n"
   ]
  },
  {
   "cell_type": "code",
   "execution_count": 1,
   "id": "dd0e8dab",
   "metadata": {},
   "outputs": [
    {
     "name": "stdout",
     "output_type": "stream",
     "text": [
      "True\n",
      "False\n",
      "True\n"
     ]
    }
   ],
   "source": [
    "nums = {\n",
    "    1: \"one\",\n",
    "    2: \"two\",\n",
    "    3: \"three\",\n",
    "}\n",
    "print(1 in nums)\n",
    "print(\"three\" in nums)\n",
    "print(4 not in nums)"
   ]
  },
  {
   "cell_type": "markdown",
   "id": "676aaca5",
   "metadata": {},
   "source": [
    "------\n",
    "- A useful dictionary function is get \n",
    "- it does the  same thing as indexing, but if the key is not found in the dictionary it return another specified value instead \n"
   ]
  },
  {
   "cell_type": "code",
   "execution_count": 2,
   "id": "f9c53de7",
   "metadata": {},
   "outputs": [
    {
     "name": "stdout",
     "output_type": "stream",
     "text": [
      "[2, 3, 4]\n",
      "42\n",
      "not found\n"
     ]
    }
   ],
   "source": [
    "pairs = {1: \"apple\",\n",
    "  \"orange\": [2, 3, 4], \n",
    "  True: False, \n",
    "  12: \"True\",\n",
    "}\n",
    "\n",
    "print(pairs.get(\"orange\"))\n",
    "print(pairs.get(7, 42))\n",
    "print(pairs.get(12345, \"not found\"))"
   ]
  },
  {
   "cell_type": "code",
   "execution_count": 3,
   "id": "209ce629",
   "metadata": {},
   "outputs": [
    {
     "name": "stdout",
     "output_type": "stream",
     "text": [
      "8\n"
     ]
    }
   ],
   "source": [
    "fib = {1: 1, 2: 1, 3: 2, 4: 3}\n",
    "print(fib.get(4, 0) + fib.get(7, 5))"
   ]
  },
  {
   "cell_type": "markdown",
   "id": "73d48b1c",
   "metadata": {},
   "source": [
    "### Tuples \n",
    "-------------\n",
    "- tulpls are very similier to lists , except that they are immutable (they cannot be chanaged) \n",
    "- also, they are created using parentheses rather than square bracktes \n",
    "-  like lists and ditionaries, tuple can be within each other \n",
    "- tuples can be create  without the arenntheses by just separating the values with commas \n",
    "- tuples are faster than lists, but they cannot be changed \n",
    "- tuple unpacking allows you"
   ]
  },
  {
   "cell_type": "code",
   "execution_count": 1,
   "id": "d9a73960",
   "metadata": {},
   "outputs": [
    {
     "name": "stdout",
     "output_type": "stream",
     "text": [
      "1\n",
      "2\n",
      "3\n"
     ]
    }
   ],
   "source": [
    "numbers = (1, 2, 3)\n",
    "a, b, c = numbers\n",
    "print(a)\n",
    "print(b)\n",
    "print(c)"
   ]
  },
  {
   "cell_type": "code",
   "execution_count": 2,
   "id": "0520a036",
   "metadata": {},
   "outputs": [
    {
     "name": "stdout",
     "output_type": "stream",
     "text": [
      "1\n",
      "2\n",
      "[3, 4, 5, 6, 7, 8]\n",
      "9\n"
     ]
    }
   ],
   "source": [
    "a, b, *c, d = [1, 2, 3, 4, 5, 6, 7, 8, 9]\n",
    "print(a)\n",
    "print(b)\n",
    "print(c)\n",
    "print(d)"
   ]
  },
  {
   "cell_type": "code",
   "execution_count": null,
   "id": "de2879c2",
   "metadata": {},
   "outputs": [],
   "source": []
  },
  {
   "cell_type": "code",
   "execution_count": null,
   "id": "54a1391f",
   "metadata": {},
   "outputs": [],
   "source": []
  },
  {
   "cell_type": "code",
   "execution_count": null,
   "id": "c123b1bc",
   "metadata": {},
   "outputs": [],
   "source": []
  },
  {
   "cell_type": "code",
   "execution_count": null,
   "id": "27b04288",
   "metadata": {},
   "outputs": [],
   "source": []
  },
  {
   "cell_type": "code",
   "execution_count": null,
   "id": "4f46e2ca",
   "metadata": {},
   "outputs": [],
   "source": []
  },
  {
   "cell_type": "code",
   "execution_count": null,
   "id": "6716f2ab",
   "metadata": {},
   "outputs": [],
   "source": []
  },
  {
   "cell_type": "code",
   "execution_count": null,
   "id": "5467b38f",
   "metadata": {},
   "outputs": [],
   "source": []
  },
  {
   "cell_type": "code",
   "execution_count": null,
   "id": "fdcaa430",
   "metadata": {},
   "outputs": [],
   "source": []
  }
 ],
 "metadata": {
  "kernelspec": {
   "display_name": "Python 3 (ipykernel)",
   "language": "python",
   "name": "python3"
  },
  "language_info": {
   "codemirror_mode": {
    "name": "ipython",
    "version": 3
   },
   "file_extension": ".py",
   "mimetype": "text/x-python",
   "name": "python",
   "nbconvert_exporter": "python",
   "pygments_lexer": "ipython3",
   "version": "3.9.7"
  }
 },
 "nbformat": 4,
 "nbformat_minor": 5
}
