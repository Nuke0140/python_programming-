{
 "cells": [
  {
   "cell_type": "markdown",
   "id": "69c0ddae",
   "metadata": {},
   "source": [
    " # lets start the python \n",
    " \n",
    " ---\n",
    " - python is high level programmming  language\n",
    " - in python  we use print function to output text \n",
    " "
   ]
  },
  {
   "cell_type": "code",
   "execution_count": 1,
   "id": "61cf6824",
   "metadata": {},
   "outputs": [
    {
     "name": "stdout",
     "output_type": "stream",
     "text": [
      "hello lerners \n"
     ]
    }
   ],
   "source": [
    "print (\"hello lerners \")"
   ]
  },
  {
   "cell_type": "markdown",
   "id": "2e93551e",
   "metadata": {},
   "source": [
    "- - simple opearation \n"
   ]
  },
  {
   "cell_type": "code",
   "execution_count": 3,
   "id": "2893fae2",
   "metadata": {},
   "outputs": [
    {
     "name": "stdout",
     "output_type": "stream",
     "text": [
      "4\n",
      "6\n",
      "5.0\n",
      "14\n"
     ]
    }
   ],
   "source": [
    "print(2 + 2)\n",
    "print(5 + 4 - 3)\n",
    "print( 10 / 2 )\n",
    "print(2 * (3 + 4)) "
   ]
  },
  {
   "cell_type": "markdown",
   "id": "11cb5fd4",
   "metadata": {},
   "source": [
    "### data type \n",
    "\n",
    "----\n",
    "- each value in python has type \n",
    "\n",
    "- string \n",
    "- float \n",
    "- boolean \n",
    "- intiger \n",
    "- \n",
    "----\n",
    " #### Exponentiation \n",
    " \n",
    " ---\n",
    " - alright that covers the very basic opearation,  additon , subtraction  multiplication and division \n",
    " \n",
    "- the exponentiation opearation is performed using two asterisks\n",
    "\n",
    "\n"
   ]
  },
  {
   "cell_type": "code",
   "execution_count": null,
   "id": "c10be43d",
   "metadata": {},
   "outputs": [],
   "source": [
    "#You can chain exponentiations together. In other words, you can rise a number to multiple powers. For example, 2**3**2."
   ]
  },
  {
   "cell_type": "code",
   "execution_count": 4,
   "id": "7292978d",
   "metadata": {},
   "outputs": [
    {
     "name": "stdout",
     "output_type": "stream",
     "text": [
      "32\n"
     ]
    }
   ],
   "source": [
    "print( 2**5 )"
   ]
  },
  {
   "cell_type": "markdown",
   "id": "2defff8f",
   "metadata": {},
   "source": [
    "#### Quotient \n",
    "---\n",
    "- floor division is done using forward slashed is used to determine the qotienet of division ,..\n",
    "- You can also use floor division on floats, and the result will always be a float."
   ]
  },
  {
   "cell_type": "code",
   "execution_count": 5,
   "id": "ccc71044",
   "metadata": {},
   "outputs": [
    {
     "name": "stdout",
     "output_type": "stream",
     "text": [
      "3\n"
     ]
    }
   ],
   "source": [
    "print(20 // 6) "
   ]
  },
  {
   "cell_type": "markdown",
   "id": "5e3ae7f7",
   "metadata": {},
   "source": [
    "### Remainder \n",
    "\n",
    "- ahh those pesky remainder . \n",
    "-  the modulo opearator which is carried out with percent symbol (%) to get the remainder of given division \n"
   ]
  },
  {
   "cell_type": "code",
   "execution_count": 6,
   "id": "7af28ae2",
   "metadata": {},
   "outputs": [
    {
     "name": "stdout",
     "output_type": "stream",
     "text": [
      "2\n",
      "0.25\n"
     ]
    }
   ],
   "source": [
    "print(20 % 6)\n",
    "\n",
    "print(1.25 % 0.5) "
   ]
  },
  {
   "cell_type": "markdown",
   "id": "20ae1897",
   "metadata": {},
   "source": [
    "## String \n",
    " ----\n",
    "  - if you  want to use text in python , you have use a string but there lot more to it than that as we ll find out togher\n",
    "  -  we can a string by entering text between two single or double quottion marks \n",
    "  - The delimiter (\" or ') used for a string doesn't affect how it behaves in any way."
   ]
  },
  {
   "cell_type": "code",
   "execution_count": 7,
   "id": "1c105d6b",
   "metadata": {},
   "outputs": [
    {
     "name": "stdout",
     "output_type": "stream",
     "text": [
      "Python is fun!\n",
      "Always look on the bright side of life\n"
     ]
    }
   ],
   "source": [
    "print(\"Python is fun!\")\n",
    "\n",
    "print('Always look on the bright side of life')"
   ]
  },
  {
   "cell_type": "markdown",
   "id": "40334de0",
   "metadata": {},
   "source": [
    "\n",
    "#### backslash \n",
    "\n",
    "---\n",
    "- Backslashes that we use for escaping, don’t get displayed in the output."
   ]
  },
  {
   "cell_type": "code",
   "execution_count": 9,
   "id": "59afce6f",
   "metadata": {},
   "outputs": [
    {
     "name": "stdout",
     "output_type": "stream",
     "text": [
      "Nuke's mother: He's not an angel. He's a very naughty boy!\n"
     ]
    }
   ],
   "source": [
    "print('Nuke\\'s mother: He\\'s not an angel. He\\'s a very naughty boy!')"
   ]
  },
  {
   "cell_type": "markdown",
   "id": "c2d2a978",
   "metadata": {},
   "source": [
    "## Newlines\n",
    "----\n",
    "\n",
    "- Ok, so we can generate text, but it’d be pretty hard to read if everything was on one single line, right?\n",
    "\n",
    "- To create a new line we use \\n.\n",
    "\n",
    "- \\n can be used in strings to create multi-line outputs. Like this:\n"
   ]
  },
  {
   "cell_type": "code",
   "execution_count": 10,
   "id": "39133222",
   "metadata": {},
   "outputs": [
    {
     "name": "stdout",
     "output_type": "stream",
     "text": [
      "One\n",
      "Two \n",
      "Three\n"
     ]
    }
   ],
   "source": [
    "print('One\\nTwo \\nThree') "
   ]
  },
  {
   "cell_type": "code",
   "execution_count": 11,
   "id": "8ef0acb1",
   "metadata": {},
   "outputs": [
    {
     "name": "stdout",
     "output_type": "stream",
     "text": [
      "this\n",
      "is a\n",
      "multiline\n",
      "text\n"
     ]
    }
   ],
   "source": [
    "#There’s another way though! Newlines are automatically added for strings created using three quotes.4\n",
    "print(\"\"\"this\n",
    "is a\n",
    "multiline\n",
    "text\"\"\") "
   ]
  },
  {
   "cell_type": "markdown",
   "id": "7083989c",
   "metadata": {},
   "source": [
    " ### # Concatenation\n",
    "---\n",
    "\n",
    "- In Python math works with words as well as numbers.\n",
    "\n",
    "- So not only can we add integers and floats, but also strings, using something called concatenation, which can be done on any two strings"
   ]
  },
  {
   "cell_type": "code",
   "execution_count": 13,
   "id": "d5685998",
   "metadata": {},
   "outputs": [
    {
     "name": "stdout",
     "output_type": "stream",
     "text": [
      "Spameggs\n",
      "22\n",
      "spamspamspam\n",
      "2222\n"
     ]
    }
   ],
   "source": [
    "print(\"Spam\" + 'eggs')\n",
    "print(\"2\" + \"2\")\n",
    "\n",
    "print(\"spam\" * 3)\n",
    "\n",
    "print(4 * '2')\n"
   ]
  },
  {
   "cell_type": "markdown",
   "id": "9922ee0c",
   "metadata": {},
   "source": [
    "----\n",
    "- But don’t try to add a string to a number! Even though they might look similar, they are two different entities, so doing this will break the code and produce an error.\n",
    "----\n",
    "- But don’t try to multiply a string by another string. This will just generate an error. The same will happen if you try to multiply a string by a float, even if the float is a number."
   ]
  },
  {
   "cell_type": "markdown",
   "id": "40b7d398",
   "metadata": {},
   "source": [
    "### Variables\n",
    "---\n",
    "\n",
    "- A variable lets you store a value by assigning it to a name. The name can be used to refer to the value later in the program.\n",
    "\n",
    "- You can use letters, numbers, and underscores in variable names. But you can’t use special symbols, or start the name with a number.\n",
    "- Don’t forget, Python is a case sensitive language. Which means, Lastname and lastname are two different variable names. "
   ]
  },
  {
   "cell_type": "markdown",
   "id": "3ef30eb8",
   "metadata": {},
   "source": [
    " - #You can see that the variable stores its value throughout the program.\n",
    "\n",
    "- But Beware! Overwriting the same variable with different data types is not good practice. To avoid mistakes, try to avoid doing it.\n"
   ]
  },
  {
   "cell_type": "markdown",
   "id": "42825436",
   "metadata": {},
   "source": [
    " #### input \n",
    " ---\n",
    " - The input function prompts the user for input, and returns what they enter as a string. Like this:"
   ]
  },
  {
   "cell_type": "code",
   "execution_count": 14,
   "id": "50747499",
   "metadata": {},
   "outputs": [
    {
     "name": "stdout",
     "output_type": "stream",
     "text": [
      "i m so enjoying this now \n",
      "i m so enjoying this now \n"
     ]
    }
   ],
   "source": [
    "x = input()\n",
    "print(x)"
   ]
  },
  {
   "cell_type": "markdown",
   "id": "7ed8ef06",
   "metadata": {},
   "source": [
    "-----\n",
    "- to make the input statement work , it needs to be followed  by paretheses \n",
    "- you can then provide a string to input() between the parentheses, producing a prompt message \n",
    "- the  prompt"
   ]
  },
  {
   "cell_type": "markdown",
   "id": "94db266b",
   "metadata": {},
   "source": [
    "## String Functions \n",
    "---\n",
    "- another lighting \n",
    "\n",
    "- join - joins list of strings with another string as a separator.\n",
    "- replace - replaces one substring in a string with another .\n",
    "- startwith and endwith  - determine if there is substring at the start and end of a string, respectively \n",
    "- lower and upper - chnages the case of a string \n",
    "- split - the opposite of join, turn a string with a certain separator  into a list \n",
    "\n",
    "\n"
   ]
  },
  {
   "cell_type": "code",
   "execution_count": 1,
   "id": "9fc50989",
   "metadata": {},
   "outputs": [
    {
     "name": "stdout",
     "output_type": "stream",
     "text": [
      "spam, eggs, ham\n",
      "Hello world\n",
      "True\n",
      "True\n",
      "THIS IS A SENTENCE.\n",
      "an all caps sentence\n",
      "['spam', 'eggs', 'ham']\n"
     ]
    }
   ],
   "source": [
    "print(\", \".join([\"spam\", \"eggs\", \"ham\"]))\n",
    "#prints \"spam, eggs, ham\"\n",
    "\n",
    "print(\"Hello ME\".replace(\"ME\", \"world\"))\n",
    "#prints \"Hello world\"\n",
    "\n",
    "print(\"This is a sentence.\".startswith(\"This\"))\n",
    "# prints \"True\"\n",
    "\n",
    "print(\"This is a sentence.\".endswith(\"sentence.\"))\n",
    "# prints \"True\"\n",
    "\n",
    "print(\"This is a sentence.\".upper())\n",
    "# prints \"THIS IS A SENTENCE.\"\n",
    "\n",
    "print(\"AN ALL CAPS SENTENCE\".lower())\n",
    "#prints \"an all caps sentence\"\n",
    "\n",
    "print(\"spam, eggs, ham\".split(\", \"))\n",
    "#prints \"['spam', 'eggs', 'ham']\""
   ]
  },
  {
   "cell_type": "markdown",
   "id": "30899e11",
   "metadata": {},
   "source": [
    "## Functions \n",
    "\n",
    "----\n",
    "- you can create your own function by using the def  statment.\n",
    "-  the code block within every function starts with a colon(:) and is indented "
   ]
  },
  {
   "cell_type": "code",
   "execution_count": 2,
   "id": "7b0a4813",
   "metadata": {},
   "outputs": [
    {
     "name": "stdout",
     "output_type": "stream",
     "text": [
      "spam\n",
      "spam\n",
      "spam\n"
     ]
    }
   ],
   "source": [
    "def my_func():\n",
    "   print(\"spam\")\n",
    "   print(\"spam\")\n",
    "   print(\"spam\")\n",
    "\n",
    "my_func()"
   ]
  },
  {
   "cell_type": "code",
   "execution_count": 3,
   "id": "b122a360",
   "metadata": {},
   "outputs": [
    {
     "name": "stdout",
     "output_type": "stream",
     "text": [
      "Hello world!\n",
      "Hello world!\n",
      "Hello world!\n"
     ]
    }
   ],
   "source": [
    "def hello():\n",
    "   print(\"Hello world!\")\n",
    " \n",
    "hello()\n",
    "hello()\n",
    "hello()\n"
   ]
  },
  {
   "cell_type": "markdown",
   "id": "acb2d1a8",
   "metadata": {},
   "source": [
    "## Arguments \n",
    "\n",
    "----\n",
    "- Fuctions can take arguments, which can be used to generate the function output \n",
    "- "
   ]
  },
  {
   "cell_type": "code",
   "execution_count": 4,
   "id": "250e0c96",
   "metadata": {},
   "outputs": [
    {
     "name": "stdout",
     "output_type": "stream",
     "text": [
      "spam!\n",
      "eggs!\n",
      "python!\n"
     ]
    }
   ],
   "source": [
    "def print_with_exclamation(word):\n",
    "    print(word + \"!\")\n",
    "    \n",
    "print_with_exclamation(\"spam\")\n",
    "print_with_exclamation(\"eggs\")\n",
    "print_with_exclamation(\"python\")"
   ]
  },
  {
   "cell_type": "markdown",
   "id": "fdf0b9cb",
   "metadata": {},
   "source": [
    "### Returning from functions \n",
    "-----\n",
    "- Certain function, such as int or str , return a value instead of outputting it the returned value can be later in the code \n",
    "- to do this for your defined function  you can use the return statement like this \n",
    "\n"
   ]
  },
  {
   "cell_type": "code",
   "execution_count": 5,
   "id": "353e2183",
   "metadata": {},
   "outputs": [
    {
     "name": "stdout",
     "output_type": "stream",
     "text": [
      "7\n",
      "8\n"
     ]
    }
   ],
   "source": [
    "def max(x, y):\n",
    "    if x >=y:\n",
    "        return x\n",
    "    else:\n",
    "        return y\n",
    "        \n",
    "print(max(4, 7))\n",
    "z = max(8, 5)\n",
    "print(z)\n",
    "\n",
    "# return statement cannot be used outside of a function definition \n"
   ]
  },
  {
   "cell_type": "code",
   "execution_count": null,
   "id": "f8e76fc9",
   "metadata": {},
   "outputs": [],
   "source": [
    "# returning from the function , \n",
    "# once you return a value from a function, it immediately stops being executed any code placed after return statement  "
   ]
  },
  {
   "cell_type": "markdown",
   "id": "9ea3f6bc",
   "metadata": {},
   "source": [
    "### Comments \n",
    "\n",
    "---\n",
    "- comments are annotations to code used to make it easier to uderstand they dont affect how code is run \n",
    "\n"
   ]
  },
  {
   "cell_type": "code",
   "execution_count": 6,
   "id": "3248f2bd",
   "metadata": {},
   "outputs": [
    {
     "name": "stdout",
     "output_type": "stream",
     "text": [
      "1\n"
     ]
    }
   ],
   "source": [
    "x = 365\n",
    "y = 7\n",
    "# this is a comment\n",
    "\n",
    "print(x % y) # find the remainder\n",
    "# print (x // y)\n",
    "# another comment\n",
    "\n",
    "# unlike programming language such as C,python doesnt have general-purpose multiline comments "
   ]
  },
  {
   "cell_type": "markdown",
   "id": "ef3b1eb4",
   "metadata": {},
   "source": [
    "### Docstrigs\n",
    "\n",
    "----\n",
    "- Docstrings (documentation strings) are similar to comments, in that they're designed to explain code \n",
    "- they're  created by putting a multiline string containing an explanation of the function below the function first line like this \n"
   ]
  },
  {
   "cell_type": "code",
   "execution_count": 7,
   "id": "d48d631d",
   "metadata": {},
   "outputs": [
    {
     "name": "stdout",
     "output_type": "stream",
     "text": [
      "spam!\n"
     ]
    }
   ],
   "source": [
    "def shout(word):\n",
    "    \"\"\"\n",
    "    Print a word with an\n",
    "    exclamation mark following it.\n",
    "    \"\"\"\n",
    "    print(word + \"!\")\n",
    "\n",
    "shout(\"spam\")\n",
    "\n",
    "# unlike  conventional comments , docstrings are retained throughout the runtime of the proram . this allows the programmer \n",
    "# to inspect these comments at run time\n",
    "\n"
   ]
  },
  {
   "cell_type": "code",
   "execution_count": 10,
   "id": "6c6cc219",
   "metadata": {},
   "outputs": [
    {
     "name": "stdout",
     "output_type": "stream",
     "text": [
      "0\n",
      "1\n",
      "2\n",
      "3\n",
      "4\n",
      "5\n",
      "6\n",
      "7\n",
      "8\n",
      "9\n"
     ]
    }
   ],
   "source": [
    "def print_nums(x):\n",
    "    for i in range(x):\n",
    "        print(i)\n",
    "    return\n",
    "print_nums(10)"
   ]
  },
  {
   "cell_type": "code",
   "execution_count": 11,
   "id": "3c20bbfd",
   "metadata": {},
   "outputs": [
    {
     "name": "stdout",
     "output_type": "stream",
     "text": [
      "6\n"
     ]
    }
   ],
   "source": [
    "def func(x):\n",
    "  res = 0\n",
    "  for i in range(x):\n",
    "     res += i\n",
    "  return res\n",
    "\n",
    "print(func(4))"
   ]
  },
  {
   "cell_type": "code",
   "execution_count": null,
   "id": "7e5d312d",
   "metadata": {},
   "outputs": [],
   "source": []
  },
  {
   "cell_type": "code",
   "execution_count": null,
   "id": "11fc9b3b",
   "metadata": {},
   "outputs": [],
   "source": []
  },
  {
   "cell_type": "code",
   "execution_count": null,
   "id": "856be7db",
   "metadata": {},
   "outputs": [],
   "source": []
  }
 ],
 "metadata": {
  "kernelspec": {
   "display_name": "Python 3 (ipykernel)",
   "language": "python",
   "name": "python3"
  },
  "language_info": {
   "codemirror_mode": {
    "name": "ipython",
    "version": 3
   },
   "file_extension": ".py",
   "mimetype": "text/x-python",
   "name": "python",
   "nbconvert_exporter": "python",
   "pygments_lexer": "ipython3",
   "version": "3.9.7"
  }
 },
 "nbformat": 4,
 "nbformat_minor": 5
}
