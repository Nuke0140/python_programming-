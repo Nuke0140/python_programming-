{
 "cells": [
  {
   "cell_type": "markdown",
   "id": "ef48c72d",
   "metadata": {},
   "source": [
    "### NOne \n",
    "---- \n",
    "- the none object is used to represent the absence of a value \n",
    "- it similar to null in other preogramming language \n",
    "- Like other \"empty\" values such as 0 [] and the empty string . it is false when converted to boolean variable \n",
    "-"
   ]
  },
  {
   "cell_type": "code",
   "execution_count": 1,
   "id": "0c565998",
   "metadata": {},
   "outputs": [
    {
     "name": "stdout",
     "output_type": "stream",
     "text": [
      "None\n"
     ]
    }
   ],
   "source": [
    "print(None)"
   ]
  },
  {
   "cell_type": "code",
   "execution_count": 2,
   "id": "98141e6d",
   "metadata": {},
   "outputs": [
    {
     "name": "stdout",
     "output_type": "stream",
     "text": [
      "Hi!\n",
      "None\n"
     ]
    }
   ],
   "source": [
    "def some_func():\n",
    "    print(\"Hi!\")\n",
    "\n",
    "var = some_func()\n",
    "print(var)"
   ]
  },
  {
   "cell_type": "markdown",
   "id": "900adc68",
   "metadata": {},
   "source": [
    "### Dictionaries \n",
    "------\n",
    "- Dictionaries  are data structures used to map arbitray keys to values lists can be thought of as dictionaries with integer keys within crtain range \n",
    "- Dictionarues can be indexed in the same way as lists using square brackets contaning keys .'\n"
   ]
  },
  {
   "cell_type": "code",
   "execution_count": 3,
   "id": "a028bf85",
   "metadata": {},
   "outputs": [
    {
     "name": "stdout",
     "output_type": "stream",
     "text": [
      "24\n",
      "42\n"
     ]
    }
   ],
   "source": [
    "ages = {\"Dave\": 24, \"Mary\": 42, \"John\": 58}\n",
    "print(ages[\"Dave\"])\n",
    "print(ages[\"Mary\"])"
   ]
  },
  {
   "cell_type": "code",
   "execution_count": 4,
   "id": "a2d3a52f",
   "metadata": {},
   "outputs": [
    {
     "name": "stdout",
     "output_type": "stream",
     "text": [
      "8\n"
     ]
    }
   ],
   "source": [
    "fib = {1: 1, 2: 1, 3: 2, 4: 3}\n",
    "\n",
    "print(fib.get(4, 0) + fib.get(7, 5))"
   ]
  },
  {
   "cell_type": "code",
   "execution_count": 5,
   "id": "6aa0bcbc",
   "metadata": {},
   "outputs": [
    {
     "name": "stdout",
     "output_type": "stream",
     "text": [
      "[0, 1, 8, 27, 64]\n"
     ]
    }
   ],
   "source": [
    "# a list comprehension\n",
    "cubes = [i**3 for i in range(5)]\n",
    "\n",
    "print(cubes)"
   ]
  },
  {
   "cell_type": "code",
   "execution_count": 6,
   "id": "4f09069d",
   "metadata": {},
   "outputs": [
    {
     "name": "stdout",
     "output_type": "stream",
     "text": [
      "[0, 4, 16, 36, 64]\n"
     ]
    }
   ],
   "source": [
    "evens=[i**2 for i in range(10) if i**2 % 2 == 0]\n",
    "\n",
    "print(evens)"
   ]
  },
  {
   "cell_type": "markdown",
   "id": "7cd1c12d",
   "metadata": {},
   "source": [
    "### List Comprehensions \n",
    "---\n",
    "- trying to create a list in very extensive range will result in MemoryError \n",
    "- even = [2*i for i in range(10**100)]\n",
    "- this issue is solved by generators , which are covered in the next module"
   ]
  },
  {
   "cell_type": "markdown",
   "id": "f18c7213",
   "metadata": {},
   "source": [
    "## String formatting \n",
    "----\n",
    "- so far to combine strings and non-strings you have converted the non-strings t0 stringd and added them \n",
    "- string formatting provides a more powerful way tom embed method to substitute a number of arguments in string \n"
   ]
  },
  {
   "cell_type": "code",
   "execution_count": 1,
   "id": "074e174f",
   "metadata": {},
   "outputs": [
    {
     "name": "stdout",
     "output_type": "stream",
     "text": [
      "Numbers: 4 5 6\n"
     ]
    }
   ],
   "source": [
    "# string formatting\n",
    "nums = [4, 5, 6]\n",
    "msg = \"Numbers: {0} {1} {2}\". format(nums[0], nums[1], nums[2])\n",
    "print(msg)"
   ]
  },
  {
   "cell_type": "markdown",
   "id": "92914a4d",
   "metadata": {},
   "source": [
    "- Each argument of the format function is placed in the string at the corresponding position, which is determined using the curly braces { }."
   ]
  },
  {
   "cell_type": "code",
   "execution_count": 2,
   "id": "4d10405b",
   "metadata": {},
   "outputs": [
    {
     "name": "stdout",
     "output_type": "stream",
     "text": [
      "abracadabra\n"
     ]
    }
   ],
   "source": [
    "print(\"{0}{1}{0}\".format(\"abra\", \"cad\"))"
   ]
  },
  {
   "cell_type": "code",
   "execution_count": 3,
   "id": "0df5c6f5",
   "metadata": {},
   "outputs": [
    {
     "name": "stdout",
     "output_type": "stream",
     "text": [
      "5, 12\n"
     ]
    }
   ],
   "source": [
    "a = \"{x}, {y}\".format(x=5, y=12)\n",
    "print(a)"
   ]
  },
  {
   "cell_type": "code",
   "execution_count": 4,
   "id": "5a7d91fb",
   "metadata": {},
   "outputs": [
    {
     "name": "stdout",
     "output_type": "stream",
     "text": [
      "7, 9, 5\n"
     ]
    }
   ],
   "source": [
    "str=\"{c}, {b}, {a}\".format(a=5, b=9, c=7)\n",
    "print(str)"
   ]
  },
  {
   "cell_type": "markdown",
   "id": "7f189662",
   "metadata": {},
   "source": [
    "## Strings Functions \n",
    "---\n",
    "- python contains many useful built in function and methods to accomplish command task \n",
    "- join - joins a list of strings with another string as a separator.\n",
    "- replace - replaces one substring in a string with another.\n",
    "- startswith and endswith - determine if there is a substring at the start and end of a string, respectively.\n",
    "- To change the case of a string, you can use lower and upper.\n",
    "- The method split is the opposite of join turning a string with a certain separator into a list."
   ]
  },
  {
   "cell_type": "code",
   "execution_count": 5,
   "id": "0f478229",
   "metadata": {},
   "outputs": [
    {
     "name": "stdout",
     "output_type": "stream",
     "text": [
      "spam, eggs, ham\n",
      "Hello world\n",
      "True\n",
      "True\n",
      "THIS IS A SENTENCE.\n",
      "an all caps sentence\n",
      "['spam', 'eggs', 'ham']\n"
     ]
    }
   ],
   "source": [
    "print(\", \".join([\"spam\", \"eggs\", \"ham\"]))\n",
    "#prints \"spam, eggs, ham\"\n",
    "\n",
    "print(\"Hello ME\".replace(\"ME\", \"world\"))\n",
    "#prints \"Hello world\"\n",
    "\n",
    "print(\"This is a sentence.\".startswith(\"This\"))\n",
    "# prints \"True\"\n",
    "\n",
    "print(\"This is a sentence.\".endswith(\"sentence.\"))\n",
    "# prints \"True\"\n",
    "\n",
    "print(\"This is a sentence.\".upper())\n",
    "# prints \"THIS IS A SENTENCE.\"\n",
    "\n",
    "print(\"AN ALL CAPS SENTENCE\".lower())\n",
    "#prints \"an all caps sentence\"\n",
    "\n",
    "print(\"spam, eggs, ham\".split(\", \"))\n",
    "#prints \"['spam', 'eggs', 'ham']\""
   ]
  },
  {
   "cell_type": "markdown",
   "id": "eb5fe46e",
   "metadata": {},
   "source": [
    "## Numeric Functions \n",
    "----\n",
    "- to find the maximum or minimum of some numbers or a list you can max or min \n",
    "- To find the distance of a number from zero (its absolute value), use abs.\n",
    "- To round a number to a certain number of decimal places, use round.\n",
    "- To find the total of a list, use sum.\n"
   ]
  },
  {
   "cell_type": "code",
   "execution_count": 6,
   "id": "330d0e1d",
   "metadata": {},
   "outputs": [
    {
     "name": "stdout",
     "output_type": "stream",
     "text": [
      "0\n",
      "9\n",
      "99\n",
      "42\n",
      "15\n"
     ]
    }
   ],
   "source": [
    "print(min(1, 2, 3, 4, 0, 2, 1))\n",
    "print(max([1, 4, 9, 2, 5, 6, 8]))\n",
    "print(abs(-99))\n",
    "print(abs(42))\n",
    "print(sum([1, 2, 3, 4, 5]))"
   ]
  },
  {
   "cell_type": "code",
   "execution_count": 7,
   "id": "a990a6a1",
   "metadata": {},
   "outputs": [
    {
     "name": "stdout",
     "output_type": "stream",
     "text": [
      "30\n"
     ]
    }
   ],
   "source": [
    "a=min([sum([11, 22]), max(abs(-30), 2)])\n",
    "print(a)"
   ]
  },
  {
   "cell_type": "markdown",
   "id": "31fe8f63",
   "metadata": {},
   "source": [
    "## list functions \n",
    "---\n",
    "- often used in conditional staements , all and any  take list as an argument and return True id all or any (respectively) of their arguments evaluate to true(and False otherwise) \n",
    "- the function enumerae can be used to iterate thorught the values and indices of list simultaneously "
   ]
  },
  {
   "cell_type": "code",
   "execution_count": 8,
   "id": "1ea94f96",
   "metadata": {},
   "outputs": [
    {
     "name": "stdout",
     "output_type": "stream",
     "text": [
      "All larger than 5\n",
      "At least one is even\n",
      "(0, 55)\n",
      "(1, 44)\n",
      "(2, 33)\n",
      "(3, 22)\n",
      "(4, 11)\n"
     ]
    }
   ],
   "source": [
    "nums = [55, 44, 33, 22, 11]\n",
    "\n",
    "if all([i > 5 for i in nums]):\n",
    "    print(\"All larger than 5\")\n",
    "\n",
    "if any([i % 2 == 0 for i in nums]):\n",
    "    print(\"At least one is even\")\n",
    "\n",
    "for v in enumerate(nums):\n",
    "    print(v)"
   ]
  },
  {
   "cell_type": "code",
   "execution_count": 10,
   "id": "4e2f50c6",
   "metadata": {},
   "outputs": [
    {
     "name": "stdout",
     "output_type": "stream",
     "text": [
      "2\n"
     ]
    }
   ],
   "source": [
    "nums = [-1, 2, -3, 4, -5]\n",
    "if all([abs(i) < 3 for i in nums]):\n",
    "  print(1)\n",
    "else:\n",
    "  print(2)\n"
   ]
  },
  {
   "cell_type": "markdown",
   "id": "2c16b457",
   "metadata": {},
   "source": [
    "## text analyzer \n",
    "---\n",
    "filename = input(\"Enter a filename: \")\n",
    "\n",
    "with open(filename) as f:\n",
    "   text = f.read()\n",
    "\n",
    "print(text)"
   ]
  },
  {
   "cell_type": "code",
   "execution_count": 11,
   "id": "5b4f329a",
   "metadata": {},
   "outputs": [
    {
     "name": "stdout",
     "output_type": "stream",
     "text": [
      "a - 4.68%\n",
      "b - 4.94%\n",
      "c - 2.28%\n",
      "d - 0.0%\n",
      "e - 3.8%\n",
      "f - 5.19%\n",
      "g - 8.99%\n",
      "h - 2.53%\n",
      "i - 0.63%\n",
      "j - 0.51%\n",
      "k - 0.51%\n",
      "l - 1.9%\n",
      "m - 0.0%\n",
      "n - 6.2%\n",
      "o - 2.28%\n",
      "p - 1.9%\n",
      "q - 2.03%\n",
      "r - 10.51%\n",
      "s - 1.27%\n",
      "t - 1.39%\n",
      "u - 3.54%\n",
      "v - 6.08%\n",
      "w - 0.0%\n",
      "x - 0.25%\n",
      "y - 3.92%\n",
      "z - 1.65%\n"
     ]
    }
   ],
   "source": [
    "def count_char(text, char):\n",
    "    count = 0\n",
    "    for c in text:\n",
    "        if c == char:\n",
    "            count += 1\n",
    "    return count\n",
    "\n",
    "file = open(\"newfile.txt\", \"w\")\n",
    "file.write(\"\"\"Ornhgvshy vf orggre guna htyl.\n",
    "Rkcyvpvg vf orggre guna vzcyvpvg.\n",
    "Fvzcyr vf orggre guna pbzcyvpngrq.\n",
    "Syng vf orggre guna arfgrq.\n",
    "Fcenfr fv orggre guna qrafr.\n",
    "Ernqnovyvgl pbhagf.\n",
    "Fcrpvny pnfrf nera'g fcrpvny rabthu gb oernx gur ehyrf.\n",
    "Nygubhtu cenpgvpnyvgl orgnf chevgl.\n",
    "Reebef fubhyq arire cnff fvyragyl.\n",
    "Hayrff rkcyvpvgyl fvyraprq.\n",
    "Va gur snpr bs nzovthvgl, ershfr gur grzcgngvba bg thrff.\n",
    "Gurer fubhyq or bar-- naq cersrenoylbayl bar --boivbhf jnl gb qb vg.\n",
    "Nygubhtu gung jnl znl abg or boivbhf ng svefg hayrff lbh'er Qhgpu.\n",
    "Abj vf orggre guna arrire.\n",
    "Nygubhtu arire vf bsgra orggre guna *evtug* abj.\n",
    "Vs gur vzcyrzragngvba vf uneq gb rkcynva, vg'f n onq vqrn.\n",
    "Vs gur vzcyrzragngvba vf rnfl gb rkcynva, vg znl or n tbbq vqrn.\n",
    "Anzrfcnprf ner bar ubaxvat terng vqrn -- yrg'f qb zber bs gubfr!\"\"\")\n",
    "file.close()\n",
    "filename = \"newfile.txt\"\n",
    "with open(filename) as f:\n",
    "    text = f.read()\n",
    "\n",
    "for char in \"abcdefghijklmnopqrstuvwxyz\":\n",
    "    perc = 100 * count_char(text, char) / len(text)\n",
    "    print(\"{0} - {1}%\".format(char, round(perc, 2)))"
   ]
  },
  {
   "cell_type": "code",
   "execution_count": 12,
   "id": "429cd6ff",
   "metadata": {},
   "outputs": [
    {
     "name": "stdout",
     "output_type": "stream",
     "text": [
      "44\n"
     ]
    }
   ],
   "source": [
    "nums = (55, 44, 33, 22)\n",
    "print(max(min(nums[:2]), abs(-42)))"
   ]
  },
  {
   "cell_type": "code",
   "execution_count": null,
   "id": "6a053e0f",
   "metadata": {},
   "outputs": [],
   "source": []
  },
  {
   "cell_type": "code",
   "execution_count": null,
   "id": "91610edb",
   "metadata": {},
   "outputs": [],
   "source": []
  },
  {
   "cell_type": "code",
   "execution_count": null,
   "id": "95879db7",
   "metadata": {},
   "outputs": [],
   "source": []
  },
  {
   "cell_type": "code",
   "execution_count": null,
   "id": "9a5e16aa",
   "metadata": {},
   "outputs": [],
   "source": []
  },
  {
   "cell_type": "code",
   "execution_count": null,
   "id": "260d3454",
   "metadata": {},
   "outputs": [],
   "source": []
  },
  {
   "cell_type": "code",
   "execution_count": null,
   "id": "168ab8b8",
   "metadata": {},
   "outputs": [],
   "source": []
  },
  {
   "cell_type": "code",
   "execution_count": null,
   "id": "01055370",
   "metadata": {},
   "outputs": [],
   "source": []
  },
  {
   "cell_type": "code",
   "execution_count": null,
   "id": "add24e61",
   "metadata": {},
   "outputs": [],
   "source": []
  }
 ],
 "metadata": {
  "kernelspec": {
   "display_name": "Python 3 (ipykernel)",
   "language": "python",
   "name": "python3"
  },
  "language_info": {
   "codemirror_mode": {
    "name": "ipython",
    "version": 3
   },
   "file_extension": ".py",
   "mimetype": "text/x-python",
   "name": "python",
   "nbconvert_exporter": "python",
   "pygments_lexer": "ipython3",
   "version": "3.9.7"
  }
 },
 "nbformat": 4,
 "nbformat_minor": 5
}
