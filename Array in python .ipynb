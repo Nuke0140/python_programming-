{
 "cells": [
  {
   "cell_type": "markdown",
   "id": "039c848a",
   "metadata": {},
   "source": [
    "## What is an  Array ?\n",
    "-----\n",
    "- Linear Data Structure \n",
    "- Contiguous memeory locations\n",
    "- Access elements randomly \n",
    "- Homogeneous elemets i.e similar elements \n"
   ]
  },
  {
   "cell_type": "markdown",
   "id": "ccc0a091",
   "metadata": {},
   "source": [
    "##### Array implementation \n",
    "- -  A program implementing the following points :\n",
    "----\n",
    "- 1. Create a one- dimensional integer array and insert  numbers to the maximum size provided  until the ened of the array . Access the numbers inserted and then display the same as output \n",
    "- 2. Create two-dimesional integer array ad insert number to the maximum size provided until the end of the array. Access the numbers inserted and then display the same as output \n",
    "- 3. implement search and delete opearation on array of integers \n"
   ]
  },
  {
   "cell_type": "code",
   "execution_count": 2,
   "id": "53b31123",
   "metadata": {},
   "outputs": [
    {
     "name": "stdout",
     "output_type": "stream",
     "text": [
      "how manay element to stored inside the array5\n",
      "\n",
      "Enter 5 Element:5,\n",
      "4,\n",
      "6,\n",
      "7\n",
      "5\n",
      "\n",
      "The array element are\n",
      "5,4,6,75"
     ]
    }
   ],
   "source": [
    "# creating one dimesional array \n",
    "print(\"how manay element to stored inside the array\", end=\"\")\n",
    "num=input()\n",
    "arr=[]\n",
    "print(\"\\nEnter\",num,\"Element:\",end=\"\")\n",
    "num= int(num)\n",
    "for i in range(num):\n",
    "    element=input()\n",
    "    arr.append(element)\n",
    "print(\"\\nThe array element are\")\n",
    "for i in range(num):\n",
    "    print(arr[i],end=\"\")"
   ]
  },
  {
   "cell_type": "code",
   "execution_count": 3,
   "id": "0c99aec7",
   "metadata": {},
   "outputs": [
    {
     "name": "stdout",
     "output_type": "stream",
     "text": [
      "input number of rows: 2\n",
      "input number of columns: 2\n",
      "[[0, 0], [0, 1]]\n"
     ]
    }
   ],
   "source": [
    "# creating 2 dimensional array \n",
    "r_num=int(input(\"input number of rows: \"))\n",
    "c_num=int(input(\"input number of columns: \"))\n",
    "twod_arr=[[0 for col in range(c_num)] for row in range(r_num)]\n",
    "\n",
    "for row in range(r_num):\n",
    "    for col in range(c_num):\n",
    "        twod_arr[row][col]=row*col\n",
    "print(twod_arr)"
   ]
  },
  {
   "cell_type": "code",
   "execution_count": 4,
   "id": "11c797e0",
   "metadata": {},
   "outputs": [
    {
     "name": "stdout",
     "output_type": "stream",
     "text": [
      "Enter the size of array :3\n",
      "Enter3Elements: 4 \n",
      "5 \n",
      "6\n",
      "\n",
      "Enter the value to delete : 6\n",
      "\n",
      "The new Array is :\n",
      "4  5  "
     ]
    }
   ],
   "source": [
    "#insert ad delation in array \n",
    "\n",
    "print (end=\"Enter the size of array :\")\n",
    "tot=int(input())\n",
    "arr=[]\n",
    "print(end=\"Enter\"+str(tot) + \"Elements: \")\n",
    "for i in range (tot):\n",
    "    arr.append(input())\n",
    "print(end=\"\\nEnter the value to delete : \")\n",
    "val = input()\n",
    "if val in arr:\n",
    "    arr.remove(val)\n",
    "    print(\"\\nThe new Array is :\")\n",
    "    for i in range(tot-1):\n",
    "        print(end=arr[i]+\" \")\n",
    "else:\n",
    "    print(\"\\n Element doesnt exits in the Array!\")\n",
    "\n",
    "    "
   ]
  },
  {
   "cell_type": "code",
   "execution_count": null,
   "id": "c4317a08",
   "metadata": {},
   "outputs": [],
   "source": []
  },
  {
   "cell_type": "code",
   "execution_count": null,
   "id": "cd71c038",
   "metadata": {},
   "outputs": [],
   "source": []
  },
  {
   "cell_type": "code",
   "execution_count": null,
   "id": "64dc7c96",
   "metadata": {},
   "outputs": [],
   "source": []
  },
  {
   "cell_type": "code",
   "execution_count": null,
   "id": "4fa9f30d",
   "metadata": {},
   "outputs": [],
   "source": []
  },
  {
   "cell_type": "code",
   "execution_count": null,
   "id": "c6021c49",
   "metadata": {},
   "outputs": [],
   "source": []
  }
 ],
 "metadata": {
  "kernelspec": {
   "display_name": "Python 3 (ipykernel)",
   "language": "python",
   "name": "python3"
  },
  "language_info": {
   "codemirror_mode": {
    "name": "ipython",
    "version": 3
   },
   "file_extension": ".py",
   "mimetype": "text/x-python",
   "name": "python",
   "nbconvert_exporter": "python",
   "pygments_lexer": "ipython3",
   "version": "3.9.7"
  }
 },
 "nbformat": 4,
 "nbformat_minor": 5
}
