{
 "cells": [
  {
   "cell_type": "markdown",
   "id": "250ff3b1",
   "metadata": {},
   "source": [
    "## Numbers \n",
    "\n"
   ]
  },
  {
   "cell_type": "code",
   "execution_count": 1,
   "id": "8a4513e8",
   "metadata": {},
   "outputs": [
    {
     "name": "stdout",
     "output_type": "stream",
     "text": [
      "<class 'int'>\n"
     ]
    }
   ],
   "source": [
    "a = 2  \n",
    "print(type(a))"
   ]
  },
  {
   "cell_type": "code",
   "execution_count": 2,
   "id": "be8211ae",
   "metadata": {},
   "outputs": [
    {
     "name": "stdout",
     "output_type": "stream",
     "text": [
      "<class 'float'>\n"
     ]
    }
   ],
   "source": [
    "b = 2.5\n",
    "print(type(b))"
   ]
  },
  {
   "cell_type": "code",
   "execution_count": 3,
   "id": "fba07498",
   "metadata": {},
   "outputs": [
    {
     "name": "stdout",
     "output_type": "stream",
     "text": [
      "4.5\n",
      "9.0\n",
      "7.333333333333333\n"
     ]
    }
   ],
   "source": [
    "a=2\n",
    "b=2.5\n",
    "print(a + b)  \n",
    "print ((a + b) * 2)\n",
    "print(2 + 2 + 4 - 2/3)"
   ]
  },
  {
   "cell_type": "code",
   "execution_count": 8,
   "id": "810ad426",
   "metadata": {},
   "outputs": [
    {
     "name": "stdout",
     "output_type": "stream",
     "text": [
      "1.5\n",
      "1\n",
      "1\n",
      "9\n"
     ]
    }
   ],
   "source": [
    "def mathop():\n",
    "    classic_division=3/2\n",
    "    floor_division = 3//2\n",
    "    modulus = 3%2\n",
    "    power=3**2\n",
    "    return[classic_division, floor_division, modulus, power]\n",
    "\n",
    "[classic_division, floor_division, modulus, power] = mathop()\n",
    "print(classic_division)\n",
    "print(floor_division)\n",
    "print(modulus)\n",
    "print (power)"
   ]
  },
  {
   "cell_type": "markdown",
   "id": "5ef932c9",
   "metadata": {},
   "source": [
    "#### Solution \n",
    "\n",
    "- / division  : Divides the umber on the left with the number on the right \n",
    "- // floor Division :  Divides and return the integer value of the quotiet \n",
    "- % modulus  : divides and returns the the value of the remainder \n",
    "- ** Exponentiation : Raises the first number to the power of the second \n"
   ]
  },
  {
   "cell_type": "code",
   "execution_count": 9,
   "id": "10cd3f2c",
   "metadata": {},
   "outputs": [
    {
     "name": "stdout",
     "output_type": "stream",
     "text": [
      "1.5\n",
      "1\n",
      "1\n",
      "9\n"
     ]
    }
   ],
   "source": [
    "def MathOp():\n",
    "  \n",
    "  classic_division = 3/2 ## Calculate 3/2 here\n",
    "  floor_division = 3//2 ## Calculate 3//2 here\n",
    "  modulus = 3%2 ## Calculate 3%2 here \n",
    "  power = 3**2 ## Calculate 3**2 here\n",
    "  ## Returning the calculations for evaluation\n",
    "  return [classic_division, floor_division, modulus, power]\n",
    "\n",
    "[classic_division, floor_division, modulus, power]=MathOp()\n",
    "print(classic_division)\n",
    "print(floor_division)\n",
    "print(modulus)\n",
    "print(power)"
   ]
  },
  {
   "cell_type": "markdown",
   "id": "02b9ab33",
   "metadata": {},
   "source": [
    "## Challenge  2 check parity of a Number \n",
    "\n",
    "----\n"
   ]
  },
  {
   "cell_type": "code",
   "execution_count": 18,
   "id": "981b4dea",
   "metadata": {},
   "outputs": [
    {
     "name": "stdout",
     "output_type": "stream",
     "text": [
      "its even  number\n"
     ]
    }
   ],
   "source": [
    "\n",
    "\n",
    "def checkparity(n):\n",
    "\n",
    "    \n",
    "    if n/2==0:\n",
    "        print(\"its even number\") \n",
    "    else:\n",
    "        print(\"its even  number\")\n",
    "\n",
    "checkparity(4)\n",
    "\n",
    "        "
   ]
  },
  {
   "cell_type": "code",
   "execution_count": 19,
   "id": "dd193be0",
   "metadata": {},
   "outputs": [
    {
     "name": "stdout",
     "output_type": "stream",
     "text": [
      "Odd parity 1\n",
      "Even parity 0\n"
     ]
    }
   ],
   "source": [
    "def checkParity(n):\n",
    "  result = (n % 2)\n",
    "  return result\n",
    "  \n",
    "print(\"Odd parity\", checkParity(17))\n",
    "print(\"Even parity\", checkParity(16))"
   ]
  },
  {
   "cell_type": "markdown",
   "id": "099e0316",
   "metadata": {},
   "source": [
    "## challenge 3 Find Values within a Range \n",
    "---\n",
    "- in this challenge find if values x and y are within the range\n",
    "---\n",
    "###### solution \n",
    "---\n",
    "- use Relational opearator \n",
    "- - Realtional opearator such as < return wither True or False and the solution, therfore, becomes ectremeley staightforward \n"
   ]
  },
  {
   "cell_type": "code",
   "execution_count": 21,
   "id": "0698c50a",
   "metadata": {},
   "outputs": [
    {
     "name": "stdout",
     "output_type": "stream",
     "text": [
      "True\n",
      "False\n"
     ]
    }
   ],
   "source": [
    "def inRange(x,y):\n",
    "    ##lets code \n",
    "    return (x<1/3<y)\n",
    "\n",
    "print(inRange(-1,3))\n",
    "print(inRange(2,3))"
   ]
  },
  {
   "cell_type": "markdown",
   "id": "e89755d2",
   "metadata": {},
   "source": [
    "## Strings \n",
    "---\n",
    "- python also has support string datatypes \n",
    "- Strings are sequences of characters(like word) \n",
    "- there are number of opearations that can be perfromed using strings "
   ]
  },
  {
   "cell_type": "code",
   "execution_count": 22,
   "id": "c2051c17",
   "metadata": {},
   "outputs": [
    {
     "name": "stdout",
     "output_type": "stream",
     "text": [
      "hello\n",
      "goodbye\n"
     ]
    }
   ],
   "source": [
    "hi = \"hello\" # string witin double quotes \n",
    "print(hi)\n",
    "\n",
    "bye='goodbye' #string within single quotes \n",
    "print(bye )"
   ]
  },
  {
   "cell_type": "markdown",
   "id": "aef267b5",
   "metadata": {},
   "source": [
    "### String Concatenation \n",
    "---\n",
    "- you can concatenate string by adding them using the + operator, but you cant mix diffrent data types (string and numbers ) \n"
   ]
  },
  {
   "cell_type": "code",
   "execution_count": 27,
   "id": "a3ddb906",
   "metadata": {},
   "outputs": [
    {
     "name": "stdout",
     "output_type": "stream",
     "text": [
      " hello world\n"
     ]
    }
   ],
   "source": [
    "hi = \" hello \"\n",
    "hi+=\"world\"\n",
    "print(hi)"
   ]
  },
  {
   "cell_type": "code",
   "execution_count": 30,
   "id": "1f77501f",
   "metadata": {},
   "outputs": [
    {
     "name": "stdout",
     "output_type": "stream",
     "text": [
      "hello\n",
      "hello\n",
      "hello\n",
      "\n"
     ]
    }
   ],
   "source": [
    "print(\"hello\\n\" * 3 )"
   ]
  },
  {
   "cell_type": "markdown",
   "id": "38477f7c",
   "metadata": {},
   "source": [
    "### challage 4 String Transformation \n"
   ]
  },
  {
   "cell_type": "code",
   "execution_count": 31,
   "id": "5d3ade6e",
   "metadata": {},
   "outputs": [
    {
     "name": "stdout",
     "output_type": "stream",
     "text": [
      "['aaabbbccc', 9]\n",
      "['xxxyyyzzz', 9]\n"
     ]
    }
   ],
   "source": [
    "def getStr(s):\n",
    "  s=s[:1] + s[0] + s[1:]# Transform the string \n",
    "  s=s[:1] + s[0] + s[1:]\n",
    "  s=s[:3] + s[3] + s[3:]\n",
    "  s=s[:3] + s[3] + s[3:]\n",
    "  s=s[:6] + s[6] + s[6:]\n",
    "  s=s[:6] + s[6] + s[6:]\n",
    "  # Update the length of string\n",
    "  strlen = len(s)\n",
    "  return [s, strlen]\n",
    "\n",
    "print(getStr(\"abc\"))\n",
    "print(getStr(\"xyz\"))"
   ]
  },
  {
   "cell_type": "markdown",
   "id": "06e28c52",
   "metadata": {},
   "source": [
    "## find index of a specific value in a string\n",
    "----\n",
    "- use the built in string function string.find(character) to find the index of a specific character in a string :"
   ]
  },
  {
   "cell_type": "code",
   "execution_count": 32,
   "id": "afcffdf2",
   "metadata": {},
   "outputs": [
    {
     "data": {
      "text/plain": [
       "1"
      ]
     },
     "execution_count": 32,
     "metadata": {},
     "output_type": "execute_result"
    }
   ],
   "source": [
    "str = \"python Programming\"\n",
    "character=\"y\"\n",
    "str.find(character)"
   ]
  },
  {
   "cell_type": "code",
   "execution_count": 33,
   "id": "75ad5e4b",
   "metadata": {},
   "outputs": [
    {
     "name": "stdout",
     "output_type": "stream",
     "text": [
      "[3, 6]\n"
     ]
    }
   ],
   "source": [
    "def findOccurence(s):\n",
    "    a = s.find(\"b\")\n",
    "    b = s.find(\"ccc\")\n",
    "    return[a,b]\n",
    "\n",
    "str=\"aaabbbccc\"\n",
    "print(findOccurence(str))"
   ]
  },
  {
   "cell_type": "markdown",
   "id": "264dc41e",
   "metadata": {},
   "source": [
    "### Review:Lower TO Uppercase \n",
    "--- \n",
    "- solution: use str.upper() and str.lower()\n"
   ]
  },
  {
   "cell_type": "code",
   "execution_count": 34,
   "id": "a8c2e2c7",
   "metadata": {},
   "outputs": [],
   "source": [
    "str=\"AAA BBB CCC\"\n",
    "a= str.upper()\n",
    "b=str.lower()\n"
   ]
  },
  {
   "cell_type": "code",
   "execution_count": 36,
   "id": "70833622",
   "metadata": {},
   "outputs": [
    {
     "name": "stdout",
     "output_type": "stream",
     "text": [
      "['AAA BBB CCC', 'aaa bbb ccc']\n"
     ]
    }
   ],
   "source": [
    "def changeCase(s):\n",
    "    a=s.upper()\n",
    "    b=s.lower()\n",
    "    return[a,b]\n",
    "str = \"AAA bbb CCC\"\n",
    "print(changeCase(str))"
   ]
  },
  {
   "cell_type": "code",
   "execution_count": 2,
   "id": "8acb028c",
   "metadata": {},
   "outputs": [
    {
     "name": "stdout",
     "output_type": "stream",
     "text": [
      "hello\n"
     ]
    }
   ],
   "source": [
    "print(\"hello\")"
   ]
  },
  {
   "cell_type": "code",
   "execution_count": 6,
   "id": "786e388f",
   "metadata": {},
   "outputs": [
    {
     "name": "stdout",
     "output_type": "stream",
     "text": [
      "[1, 3, 4, 5]\n"
     ]
    }
   ],
   "source": [
    "liat = [1,2,3,4,5]\n",
    "liat.remove(2)\n",
    "print(liat)"
   ]
  },
  {
   "cell_type": "code",
   "execution_count": null,
   "id": "8d97d5a8",
   "metadata": {},
   "outputs": [],
   "source": []
  },
  {
   "cell_type": "code",
   "execution_count": null,
   "id": "0e7657dc",
   "metadata": {},
   "outputs": [],
   "source": []
  },
  {
   "cell_type": "code",
   "execution_count": null,
   "id": "808842fe",
   "metadata": {},
   "outputs": [],
   "source": []
  },
  {
   "cell_type": "code",
   "execution_count": null,
   "id": "01269164",
   "metadata": {},
   "outputs": [],
   "source": []
  }
 ],
 "metadata": {
  "kernelspec": {
   "display_name": "Python 3 (ipykernel)",
   "language": "python",
   "name": "python3"
  },
  "language_info": {
   "codemirror_mode": {
    "name": "ipython",
    "version": 3
   },
   "file_extension": ".py",
   "mimetype": "text/x-python",
   "name": "python",
   "nbconvert_exporter": "python",
   "pygments_lexer": "ipython3",
   "version": "3.9.7"
  }
 },
 "nbformat": 4,
 "nbformat_minor": 5
}
